{
 "cells": [
  {
   "cell_type": "code",
   "execution_count": 1,
   "metadata": {},
   "outputs": [],
   "source": [
    "import pandas as pd\n",
    "import json"
   ]
  },
  {
   "cell_type": "code",
   "execution_count": 5,
   "metadata": {},
   "outputs": [],
   "source": [
    "# 读取Excel文件\n",
    "data = pd.read_csv(\"data/ielts_writing_dataset.csv\", encoding=\"utf-8\")\n",
    "\n",
    "# 选择task_type=2的数据行，并提取所需字段\n",
    "filtered_data = data[data['Task_Type'] == 2][['Question', 'Essay', 'Overall']]\n",
    "\n",
    "# 将数据转换为JSON格式\n",
    "processed_data = []\n",
    "for _, row in filtered_data.iterrows():\n",
    "    processed_data.append({\n",
    "        \"question\": row['Question'],\n",
    "        \"essay\": row['Essay'],\n",
    "        \"score\": row['Overall']\n",
    "    })\n",
    "\n",
    "# 写入JSON文件\n",
    "with open(\"data/data_processed.json\", \"w\") as json_file:\n",
    "    json.dump(processed_data, json_file, indent=4)"
   ]
  }
 ],
 "metadata": {
  "kernelspec": {
   "display_name": "base",
   "language": "python",
   "name": "python3"
  },
  "language_info": {
   "codemirror_mode": {
    "name": "ipython",
    "version": 3
   },
   "file_extension": ".py",
   "mimetype": "text/x-python",
   "name": "python",
   "nbconvert_exporter": "python",
   "pygments_lexer": "ipython3",
   "version": "3.8.19"
  }
 },
 "nbformat": 4,
 "nbformat_minor": 2
}
